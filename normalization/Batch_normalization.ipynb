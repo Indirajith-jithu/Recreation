{
 "cells": [
  {
   "cell_type": "code",
   "execution_count": 2,
   "id": "7e1078be-d5e9-4ce9-98a1-fdf7c2910968",
   "metadata": {},
   "outputs": [],
   "source": [
    "import torch\n",
    "from torch.utils.data import DataLoader, Dataset"
   ]
  },
  {
   "cell_type": "markdown",
   "id": "a3be5290-9117-46b3-912c-104076110a82",
   "metadata": {},
   "source": [
    "#### dataset"
   ]
  },
  {
   "cell_type": "code",
   "execution_count": 189,
   "id": "df9ea193-c43f-4fab-b669-38fb6eeb94f4",
   "metadata": {},
   "outputs": [],
   "source": [
    "features = 68\n",
    "dataset_size = 160\n",
    "\n",
    "class DummyDataset(Dataset):\n",
    "    def __init__(self):\n",
    "        self.data = torch.randn(dataset_size, features)\n",
    "        self.target = torch.randn(dataset_size, features)  # torch.randint(features, (dataset_size,))\n",
    "\n",
    "    def __len__(self):\n",
    "        return self.data.shape[0]\n",
    "\n",
    "    def __getitem__(self, idx):\n",
    "        return self.data[idx], self.target[idx]\n",
    "\n",
    "dataset = DummyDataset()\n",
    "dataloader = DataLoader(dataset, 16)"
   ]
  },
  {
   "cell_type": "code",
   "execution_count": null,
   "id": "e6b181e1-dc10-4348-86db-6717482b619e",
   "metadata": {},
   "outputs": [],
   "source": []
  },
  {
   "cell_type": "markdown",
   "id": "f84438fe-a437-42ac-b2a6-938658c78930",
   "metadata": {},
   "source": [
    "### models"
   ]
  },
  {
   "cell_type": "markdown",
   "id": "8c8e74c9-5d42-4822-ba29-b6dc4231e62b",
   "metadata": {},
   "source": [
    "##### basic"
   ]
  },
  {
   "cell_type": "code",
   "execution_count": 16,
   "id": "488b0fe2-8718-4cdf-80db-42da45aaf333",
   "metadata": {},
   "outputs": [],
   "source": [
    "import torch.nn as nn\n",
    "\n",
    "eps = 1e-05\n",
    "bn = nn.BatchNorm1d(features, affine=False, eps=eps)\n",
    "\n",
    "for xb, yb  in dataloader:\n",
    "    break"
   ]
  },
  {
   "cell_type": "code",
   "execution_count": 17,
   "id": "0bef2b4b-d78a-40b2-b1d9-dd5449bf5b4c",
   "metadata": {},
   "outputs": [],
   "source": [
    "y = bn(xb)"
   ]
  },
  {
   "cell_type": "code",
   "execution_count": 25,
   "id": "c8522f9e-a62d-4cb4-939d-4e6f59cf38cb",
   "metadata": {},
   "outputs": [],
   "source": [
    "mean = xb.mean(dim=0, keepdim=True)\n",
    "std = torch.sqrt(xb.var(dim=0, unbiased=False) + eps)\n",
    "\n",
    "y_h = (xb - mean)/ std"
   ]
  },
  {
   "cell_type": "code",
   "execution_count": 34,
   "id": "4d757fa1-d638-4b8f-921f-7c69a4421837",
   "metadata": {},
   "outputs": [],
   "source": [
    "miss = ~ torch.isclose(y, y_h)"
   ]
  },
  {
   "cell_type": "code",
   "execution_count": 37,
   "id": "f09bbcc1-1e84-403a-9406-95458e914e0c",
   "metadata": {},
   "outputs": [
    {
     "data": {
      "text/plain": [
       "tensor([0.0003])"
      ]
     },
     "execution_count": 37,
     "metadata": {},
     "output_type": "execute_result"
    }
   ],
   "source": [
    "y[miss]"
   ]
  },
  {
   "cell_type": "code",
   "execution_count": 38,
   "id": "61178fb2-0fdb-4259-b2d0-cff17d2cd11e",
   "metadata": {},
   "outputs": [
    {
     "data": {
      "text/plain": [
       "tensor([0.0003])"
      ]
     },
     "execution_count": 38,
     "metadata": {},
     "output_type": "execute_result"
    }
   ],
   "source": [
    "y_h[miss]"
   ]
  },
  {
   "cell_type": "code",
   "execution_count": 39,
   "id": "ca32de46-807f-44dc-bb5c-01ff7772806b",
   "metadata": {},
   "outputs": [
    {
     "data": {
      "text/plain": [
       "True"
      ]
     },
     "execution_count": 39,
     "metadata": {},
     "output_type": "execute_result"
    }
   ],
   "source": [
    "torch.allclose(y, y_h, rtol=1e-05, atol=1e-07)"
   ]
  },
  {
   "cell_type": "code",
   "execution_count": null,
   "id": "bd7709ec-47e3-4a7a-b0e4-542c2e133015",
   "metadata": {},
   "outputs": [],
   "source": []
  },
  {
   "cell_type": "markdown",
   "id": "f7c81048-fb78-4066-974a-a0f65fdf3ad5",
   "metadata": {},
   "source": [
    "##### running mean and std"
   ]
  },
  {
   "cell_type": "code",
   "execution_count": 159,
   "id": "06974d15-b225-4c43-b988-271381430586",
   "metadata": {},
   "outputs": [],
   "source": [
    "import torch.nn as nn\n",
    "\n",
    "class BatchNorm1d(nn.Module):\n",
    "\n",
    "    def __init__(self, features, eps=1e-05):\n",
    "        super().__init__()\n",
    "        self.features = features\n",
    "        self.eps = eps\n",
    "        self.momentum = 0.1\n",
    "        self.istrain= True\n",
    "\n",
    "        self.register_buffer(\"running_mean\", torch.zeros(features))\n",
    "        self.register_buffer(\"running_var\", torch.ones(features))\n",
    "\n",
    "    def eval(self):\n",
    "        self.istrain = False\n",
    "\n",
    "    def train(self):\n",
    "        self.istrain = True\n",
    "        \n",
    "    def forward(self, x):\n",
    "\n",
    "        if self.istrain:\n",
    "            mean = x.mean(dim=0)\n",
    "            var = x.var(dim=0, correction=0)\n",
    "\n",
    "            out = (x - mean)/ torch.sqrt(var + self.eps)\n",
    "\n",
    "            var = x.var(dim=0, correction=1)\n",
    "\n",
    "            self.running_mean = self.running_mean * (1-self.momentum) + mean * self.momentum \n",
    "            self.running_var = self.running_var * (1 - self.momentum )+ var * self.momentum\n",
    "\n",
    "            return out\n",
    "\n",
    "        return (x - self.running_mean)/ torch.sqrt(self.running_var + self.eps)\n",
    "\n",
    "        \n",
    "        \n",
    "        \n",
    "        "
   ]
  },
  {
   "cell_type": "code",
   "execution_count": 160,
   "id": "c3fdbb7a-a247-4991-a401-b4f7b85dc693",
   "metadata": {},
   "outputs": [],
   "source": [
    "eps = 1e-05\n",
    "\n",
    "bn_original = nn.BatchNorm1d(features, affine=False, eps=eps)\n",
    "bn_replicate = BatchNorm1d(features)"
   ]
  },
  {
   "cell_type": "code",
   "execution_count": 161,
   "id": "594e798e-d4d0-4045-87a1-3a6fe7d26d86",
   "metadata": {},
   "outputs": [],
   "source": [
    "y = bn_original(xb)\n",
    "y_h = bn_replicate(xb)"
   ]
  },
  {
   "cell_type": "code",
   "execution_count": 163,
   "id": "c061d2bb-bb11-460f-b190-2713edc71674",
   "metadata": {},
   "outputs": [
    {
     "name": "stdout",
     "output_type": "stream",
     "text": [
      "comparing \n",
      "  running_mean_check=True\n",
      "  running_var_check=True\n",
      "  eval_test=True\n"
     ]
    }
   ],
   "source": [
    "for xb, yb in dataloader:\n",
    "    y = bn_original(xb)\n",
    "    y_h = bn_replicate(xb)\n",
    "    if not torch.allclose(y, y_h, atol=1e05):\n",
    "        print(\"Output is not matching\")\n",
    "        break\n",
    "running_mean_check = torch.allclose(\n",
    "    bn_original.running_mean,\n",
    "    bn_replicate.running_mean,\n",
    "    # atol=1e-05\n",
    ")\n",
    "running_var_check = torch.allclose(\n",
    "    bn_original.running_var,\n",
    "    bn_replicate.running_var,\n",
    "    # atol=1e-05\n",
    ") \n",
    "\n",
    "bn_original.eval()\n",
    "bn_replicate.eval()\n",
    "\n",
    "y = bn_original(xb)\n",
    "y_h = bn_replicate(xb)\n",
    "eval_test = torch.allclose(\n",
    "    y,\n",
    "    y_h,\n",
    "    # atol=1e-07\n",
    ")\n",
    "\n",
    "for xb, yb in dataloader:\n",
    "    y = bn_original(xb)\n",
    "    y_h = bn_replicate(xb)\n",
    "    if not torch.allclose(\n",
    "        y, \n",
    "        y_h, \n",
    "        # atol=1e-05\n",
    "    ):\n",
    "        print(\"Output is not matching\")\n",
    "        break\n",
    "\n",
    "\n",
    "print(f\"comparing \\n  {running_mean_check=}\\n  {running_var_check=}\\n  {eval_test=}\")"
   ]
  },
  {
   "cell_type": "code",
   "execution_count": null,
   "id": "ce2fe9d2-73e7-4c13-adb5-d0f577c15fd1",
   "metadata": {},
   "outputs": [],
   "source": []
  },
  {
   "cell_type": "code",
   "execution_count": null,
   "id": "79ef58f0-54b2-46be-82e1-ff52e31641ca",
   "metadata": {},
   "outputs": [],
   "source": []
  },
  {
   "cell_type": "code",
   "execution_count": null,
   "id": "95aeb734-1dcb-4f19-ba49-a6355d76e27f",
   "metadata": {},
   "outputs": [],
   "source": []
  },
  {
   "cell_type": "markdown",
   "id": "1c0be3dc-f646-48e1-a32f-042733c861c7",
   "metadata": {},
   "source": [
    "##### full model "
   ]
  },
  {
   "cell_type": "code",
   "execution_count": 206,
   "id": "f4ed3bff-8efa-46fa-92ef-21d625a6da56",
   "metadata": {},
   "outputs": [],
   "source": [
    "import torch.nn as nn\n",
    "\n",
    "class BatchNorm1d(nn.Module):\n",
    "\n",
    "    def __init__(self, features, eps=1e-05):\n",
    "        super().__init__()\n",
    "        self.features = features\n",
    "        self.eps = eps\n",
    "        self.momentum = 0.1\n",
    "        # self.register_buffer(\"momentum\", 0./1)\n",
    "        self.istrain= True\n",
    "    \n",
    "        self.register_buffer(\"running_mean\", torch.zeros(features))\n",
    "        self.register_buffer(\"running_var\", torch.ones(features))\n",
    "\n",
    "        self.weight = torch.ones(features, requires_grad=True)\n",
    "        self.bias = torch.zeros(features,  requires_grad=True)\n",
    "\n",
    "    def eval(self):\n",
    "        self.istrain = False\n",
    "\n",
    "    def train(self):\n",
    "        self.istrain = True\n",
    "        \n",
    "    def forward(self, x):\n",
    "\n",
    "        if self.istrain:\n",
    "            mean = x.mean(dim=0)\n",
    "            var = x.var(dim=0, correction=0)\n",
    "\n",
    "            out = (x - mean)/ torch.sqrt(var + self.eps)\n",
    "\n",
    "            var = x.var(dim=0, correction=1)\n",
    "\n",
    "            self.running_mean = self.running_mean * (1-self.momentum) + mean * self.momentum \n",
    "            self.running_var = self.running_var * (1 - self.momentum )+ var * self.momentum\n",
    "\n",
    "        else:\n",
    "            out = (x - self.running_mean)/ torch.sqrt(self.running_var + self.eps)\n",
    "\n",
    "        return out * self.weight + self.bias\n",
    "\n",
    "    def parameters(self):\n",
    "        for i in [self.weight, self.bias]:\n",
    "            yield i\n",
    "        "
   ]
  },
  {
   "cell_type": "code",
   "execution_count": 214,
   "id": "7b418592-f46e-4d5a-84f0-34050114dd6b",
   "metadata": {},
   "outputs": [],
   "source": [
    "eps = 1e-05\n",
    "\n",
    "bn_original = nn.BatchNorm1d(features, affine=True, eps=eps)\n",
    "bn_replicate = BatchNorm1d(features)"
   ]
  },
  {
   "cell_type": "code",
   "execution_count": 215,
   "id": "a68d12e7-0153-4cb5-9332-6c4b658baae3",
   "metadata": {},
   "outputs": [],
   "source": [
    "import itertools\n",
    "\n",
    "criterion = nn.MSELoss()\n",
    "\n",
    "parameters = itertools.chain(bn_original.parameters(), bn_replicate.parameters())\n",
    "optimizer = torch.optim.SGD(parameters, lr=0.01)"
   ]
  },
  {
   "cell_type": "code",
   "execution_count": 223,
   "id": "875023c0-d296-474b-9b10-b131aab1cce6",
   "metadata": {},
   "outputs": [],
   "source": [
    "for xb, yb in dataloader:\n",
    "\n",
    "    optimizer.zero_grad()\n",
    "    \n",
    "    y = bn_original(xb)\n",
    "    y_h = bn_replicate(xb)\n",
    "    \n",
    "\n",
    "    loss = criterion(y, yb) \n",
    "    loss_h = criterion(y_h, yb)\n",
    "    \n",
    "    loss.backward()\n",
    "    loss_h.backward()\n",
    "    \n",
    "    optimizer.step()\n",
    "    "
   ]
  },
  {
   "cell_type": "code",
   "execution_count": 222,
   "id": "c3e82565-9d5f-481d-b884-6283d598b1f3",
   "metadata": {},
   "outputs": [
    {
     "name": "stdout",
     "output_type": "stream",
     "text": [
      "comparing \n",
      "  weight_check=True\n",
      "  bias_check=True\n"
     ]
    }
   ],
   "source": [
    "weight_check = torch.allclose(\n",
    "    bn_original.weight,\n",
    "    bn_replicate.weight,\n",
    "    \n",
    ")\n",
    "bias_check = torch.allclose(\n",
    "    bn_original.bias,\n",
    "    bn_replicate.bias,    \n",
    ") \n",
    "print(f\"comparing \\n  {weight_check=}\\n  {bias_check=}\")"
   ]
  },
  {
   "cell_type": "code",
   "execution_count": null,
   "id": "9d075655-7c02-4986-a7cf-731d265b914e",
   "metadata": {},
   "outputs": [],
   "source": []
  },
  {
   "cell_type": "code",
   "execution_count": null,
   "id": "6005f2e7-b59a-4913-903c-bc1768515dbb",
   "metadata": {},
   "outputs": [],
   "source": []
  }
 ],
 "metadata": {
  "kernelspec": {
   "display_name": "Python 3 (ipykernel)",
   "language": "python",
   "name": "python3"
  },
  "language_info": {
   "codemirror_mode": {
    "name": "ipython",
    "version": 3
   },
   "file_extension": ".py",
   "mimetype": "text/x-python",
   "name": "python",
   "nbconvert_exporter": "python",
   "pygments_lexer": "ipython3",
   "version": "3.12.10"
  }
 },
 "nbformat": 4,
 "nbformat_minor": 5
}
