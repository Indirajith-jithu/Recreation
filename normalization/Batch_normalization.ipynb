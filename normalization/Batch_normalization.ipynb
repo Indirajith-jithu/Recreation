{
 "cells": [
  {
   "cell_type": "code",
   "execution_count": 1,
   "id": "7e1078be-d5e9-4ce9-98a1-fdf7c2910968",
   "metadata": {},
   "outputs": [],
   "source": [
    "import torch\n",
    "from torch.utils.data import DataLoader, Dataset"
   ]
  },
  {
   "cell_type": "markdown",
   "id": "a3be5290-9117-46b3-912c-104076110a82",
   "metadata": {},
   "source": [
    "#### dataset"
   ]
  },
  {
   "cell_type": "code",
   "execution_count": 6,
   "id": "df9ea193-c43f-4fab-b669-38fb6eeb94f4",
   "metadata": {},
   "outputs": [],
   "source": [
    "features = 68\n",
    "dataset_size = 160\n",
    "\n",
    "class DummyDataset(Dataset):\n",
    "    def __init__(self):\n",
    "        self.data = torch.randn(dataset_size, features)\n",
    "        self.target = torch.randint(features, (dataset_size,))\n",
    "\n",
    "    def __len__(self):\n",
    "        return self.data.shape[0]\n",
    "\n",
    "    def __getitem__(self, idx):\n",
    "        return self.data[idx], self.target[idx]\n",
    "\n",
    "dataset = DummyDataset()\n",
    "dataloader = DataLoader(dataset, 16)"
   ]
  },
  {
   "cell_type": "code",
   "execution_count": null,
   "id": "e6b181e1-dc10-4348-86db-6717482b619e",
   "metadata": {},
   "outputs": [],
   "source": []
  },
  {
   "cell_type": "markdown",
   "id": "f84438fe-a437-42ac-b2a6-938658c78930",
   "metadata": {},
   "source": [
    "### models"
   ]
  },
  {
   "cell_type": "markdown",
   "id": "8c8e74c9-5d42-4822-ba29-b6dc4231e62b",
   "metadata": {},
   "source": [
    "##### basic"
   ]
  },
  {
   "cell_type": "code",
   "execution_count": 16,
   "id": "488b0fe2-8718-4cdf-80db-42da45aaf333",
   "metadata": {},
   "outputs": [],
   "source": [
    "import torch.nn as nn\n",
    "\n",
    "eps = 1e-05\n",
    "bn = nn.BatchNorm1d(features, affine=False, eps=eps)\n",
    "\n",
    "for xb, yb  in dataloader:\n",
    "    break"
   ]
  },
  {
   "cell_type": "code",
   "execution_count": 17,
   "id": "0bef2b4b-d78a-40b2-b1d9-dd5449bf5b4c",
   "metadata": {},
   "outputs": [],
   "source": [
    "y = bn(xb)"
   ]
  },
  {
   "cell_type": "code",
   "execution_count": 25,
   "id": "c8522f9e-a62d-4cb4-939d-4e6f59cf38cb",
   "metadata": {},
   "outputs": [],
   "source": [
    "mean = xb.mean(dim=0, keepdim=True)\n",
    "std = torch.sqrt(xb.var(dim=0, unbiased=False) + eps)\n",
    "\n",
    "y_h = (xb - mean)/ std"
   ]
  },
  {
   "cell_type": "code",
   "execution_count": 34,
   "id": "4d757fa1-d638-4b8f-921f-7c69a4421837",
   "metadata": {},
   "outputs": [],
   "source": [
    "miss = ~ torch.isclose(y, y_h)"
   ]
  },
  {
   "cell_type": "code",
   "execution_count": 37,
   "id": "f09bbcc1-1e84-403a-9406-95458e914e0c",
   "metadata": {},
   "outputs": [
    {
     "data": {
      "text/plain": [
       "tensor([0.0003])"
      ]
     },
     "execution_count": 37,
     "metadata": {},
     "output_type": "execute_result"
    }
   ],
   "source": [
    "y[miss]"
   ]
  },
  {
   "cell_type": "code",
   "execution_count": 38,
   "id": "61178fb2-0fdb-4259-b2d0-cff17d2cd11e",
   "metadata": {},
   "outputs": [
    {
     "data": {
      "text/plain": [
       "tensor([0.0003])"
      ]
     },
     "execution_count": 38,
     "metadata": {},
     "output_type": "execute_result"
    }
   ],
   "source": [
    "y_h[miss]"
   ]
  },
  {
   "cell_type": "code",
   "execution_count": 39,
   "id": "ca32de46-807f-44dc-bb5c-01ff7772806b",
   "metadata": {},
   "outputs": [
    {
     "data": {
      "text/plain": [
       "True"
      ]
     },
     "execution_count": 39,
     "metadata": {},
     "output_type": "execute_result"
    }
   ],
   "source": [
    "torch.allclose(y, y_h, rtol=1e-05, atol=1e-07)"
   ]
  },
  {
   "cell_type": "code",
   "execution_count": null,
   "id": "bd7709ec-47e3-4a7a-b0e4-542c2e133015",
   "metadata": {},
   "outputs": [],
   "source": []
  },
  {
   "cell_type": "markdown",
   "id": "f7c81048-fb78-4066-974a-a0f65fdf3ad5",
   "metadata": {},
   "source": [
    "##### running mean and std"
   ]
  },
  {
   "cell_type": "code",
   "execution_count": null,
   "id": "fe56338d-666e-4b5d-b14c-3af9f64acd7d",
   "metadata": {},
   "outputs": [],
   "source": []
  }
 ],
 "metadata": {
  "kernelspec": {
   "display_name": "Python (.venv 1)",
   "language": "python",
   "name": ".venv"
  },
  "language_info": {
   "codemirror_mode": {
    "name": "ipython",
    "version": 3
   },
   "file_extension": ".py",
   "mimetype": "text/x-python",
   "name": "python",
   "nbconvert_exporter": "python",
   "pygments_lexer": "ipython3",
   "version": "3.12.10"
  }
 },
 "nbformat": 4,
 "nbformat_minor": 5
}
